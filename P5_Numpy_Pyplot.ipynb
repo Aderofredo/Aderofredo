{
  "cells": [
    {
      "cell_type": "markdown",
      "metadata": {
        "id": "view-in-github",
        "colab_type": "text"
      },
      "source": [
        "<a href=\"https://colab.research.google.com/github/Aderofredo/Aderofredo/blob/main/P5_Numpy_Pyplot.ipynb\" target=\"_parent\"><img src=\"https://colab.research.google.com/assets/colab-badge.svg\" alt=\"Open In Colab\"/></a>"
      ]
    },
    {
      "cell_type": "code",
      "source": [
        "%matplotlib inline"
      ],
      "metadata": {
        "id": "iw94gbgM6uNp"
      },
      "execution_count": 1,
      "outputs": []
    },
    {
      "cell_type": "markdown",
      "metadata": {
        "id": "uxlC2el-6d7q"
      },
      "source": [
        "# Python libraries"
      ]
    },
    {
      "cell_type": "markdown",
      "metadata": {
        "id": "991vifii6d7y"
      },
      "source": [
        "# Implement sum and product of two bi-dimensional lists"
      ]
    },
    {
      "cell_type": "markdown",
      "metadata": {
        "id": "cuFdz6Il6d7y"
      },
      "source": [
        "Implement the element by element sum of two matrices"
      ]
    },
    {
      "cell_type": "code",
      "execution_count": 3,
      "metadata": {
        "id": "aH6_ibYT6d7z"
      },
      "outputs": [],
      "source": [
        "x = [[1, 2, 3], [4, 5, 6], [7, 8, 9], [10, 11, 12]]\n",
        "y = [[3, 2, 1], [4, 5, 6], [12, 11, 10], [0, 0, 0]]"
      ]
    },
    {
      "cell_type": "markdown",
      "metadata": {
        "id": "Pa60_etQ6d72"
      },
      "source": [
        "The result should be:\n",
        "[[4, 4, 4], [8, 10, 12], [19, 19, 19], [10, 11, 12]]\n",
        "\n",
        "Hint - remember to include:\n",
        "- initialisation\n",
        "- loop\n",
        "- update"
      ]
    },
    {
      "cell_type": "markdown",
      "source": [
        "Creating a 2D list (matrix) initialised with zeros."
      ],
      "metadata": {
        "id": "O0j_iB6y_X8W"
      }
    },
    {
      "cell_type": "code",
      "execution_count": 5,
      "metadata": {
        "colab": {
          "base_uri": "https://localhost:8080/"
        },
        "id": "a8qwVxDx6d73",
        "outputId": "acabf8b4-9fa6-4dc2-a6fa-78528ca6dfdc"
      },
      "outputs": [
        {
          "output_type": "stream",
          "name": "stdout",
          "text": [
            "[[4, 4, 4], [8, 10, 12], [19, 19, 19], [10, 11, 12]]\n"
          ]
        }
      ],
      "source": [
        "z = [[0 for c in range(len(x[0]))] for r in range(len(x))]\n",
        "for i in range(len(x)):\n",
        "    for j in range(len(x[0])):\n",
        "        z[i][j] = x[i][j] + y[i][j]\n",
        "print(z)"
      ]
    },
    {
      "cell_type": "code",
      "execution_count": 6,
      "metadata": {
        "colab": {
          "base_uri": "https://localhost:8080/"
        },
        "id": "cs0ibLcp6d75",
        "outputId": "60e06a0c-9b53-454c-d766-f4067b964d54"
      },
      "outputs": [
        {
          "output_type": "stream",
          "name": "stdout",
          "text": [
            "with loops:  [[4, 4, 4], [8, 10, 12], [19, 19, 19], [10, 11, 12]]\n"
          ]
        }
      ],
      "source": [
        "m_sum = []   # initialise the new matrix as an empty list\n",
        "for i in range(len(x)):\n",
        "    row = []\n",
        "    for j in range(len(x[0])):\n",
        "        row.append(x[i][j] + y[i][j])   # sum each pair of elements in a row\n",
        "    m_sum.append(row)   # add the complete raw to the matrix\n",
        "print('with loops: ', m_sum)\n"
      ]
    },
    {
      "cell_type": "markdown",
      "metadata": {
        "id": "gHpPT5Gu6d76"
      },
      "source": [
        "We can do the same operation using numpy arrays"
      ]
    },
    {
      "cell_type": "code",
      "execution_count": 7,
      "metadata": {
        "colab": {
          "base_uri": "https://localhost:8080/"
        },
        "id": "Uh8Jc-hm6d77",
        "outputId": "03bf68cd-c215-49c6-bf41-10cebcac2805"
      },
      "outputs": [
        {
          "output_type": "stream",
          "name": "stdout",
          "text": [
            "with numpy: \n",
            " [[ 4  4  4]\n",
            " [ 8 10 12]\n",
            " [19 19 19]\n",
            " [10 11 12]]\n"
          ]
        }
      ],
      "source": [
        "import numpy as np\n",
        "\n",
        "np_sum = np.add(x, y)\n",
        "print('with numpy: \\n', np_sum)"
      ]
    },
    {
      "cell_type": "markdown",
      "source": [
        "Now Let us create a new list (l) by converting each row of the above NumPy array np_sum into a Python list."
      ],
      "metadata": {
        "id": "yYaoCBfqA5dx"
      }
    },
    {
      "cell_type": "code",
      "execution_count": 8,
      "metadata": {
        "colab": {
          "base_uri": "https://localhost:8080/"
        },
        "id": "lsqQ1Y1Z6d78",
        "outputId": "0df526ea-33f9-4844-d8fd-1537e19616bd"
      },
      "outputs": [
        {
          "output_type": "stream",
          "name": "stdout",
          "text": [
            "[[4, 4, 4], [8, 10, 12], [19, 19, 19], [10, 11, 12]]\n"
          ]
        }
      ],
      "source": [
        "l = [list(x) for x in np_sum]\n",
        "print(l)"
      ]
    },
    {
      "cell_type": "markdown",
      "metadata": {
        "id": "12yyPES66d79"
      },
      "source": [
        "Product with lists and with numpy arrays"
      ]
    },
    {
      "cell_type": "code",
      "execution_count": 10,
      "metadata": {
        "colab": {
          "base_uri": "https://localhost:8080/"
        },
        "id": "4Kn00vBG6d7-",
        "outputId": "844e5e57-ce26-413f-da65-b4c1843fe1e2"
      },
      "outputs": [
        {
          "output_type": "stream",
          "name": "stdout",
          "text": [
            "This is the initial product = [[0, 0], [0, 0]]\n",
            "with loops:  [[12, 18], [27, 42]]\n",
            "with numpy:  [[12 18]\n",
            " [27 42]]\n"
          ]
        }
      ],
      "source": [
        "x = [[1, 2, 3], [4, 5, 6]]\n",
        "y = [[1, 2], [1, 2], [3, 4]]\n",
        "\n",
        "# matrix product\n",
        "if len(x[0]) == len(y):\n",
        "    prod = [[0 for r in range(len(y[0]))] for c in range(len(x))]\n",
        "    print(\"This is the initial product =\", prod)\n",
        "\n",
        "    for i in range(len(x)):\n",
        "        for j in range(len(y[0])):\n",
        "            for e in range(len(x[i])):\n",
        "                prod[i][j] += x[i][e] * [yr[j] for yr in y][e]\n",
        "print('with loops: ', prod)\n",
        "\n",
        "mx = np.matrix(x) # matrix product is not defined on arrays\n",
        "my = np.matrix(y)\n",
        "np_prod = mx * my\n",
        "print('with numpy: ', np_prod)"
      ]
    },
    {
      "cell_type": "markdown",
      "metadata": {
        "id": "lZlSrPPu6d7-"
      },
      "source": [
        "Create a square matrix of 1s"
      ]
    },
    {
      "cell_type": "code",
      "execution_count": 16,
      "metadata": {
        "colab": {
          "base_uri": "https://localhost:8080/"
        },
        "id": "Udgb_H9v6d7_",
        "outputId": "d3554951-00ec-43b4-eea3-5423f5fac123"
      },
      "outputs": [
        {
          "output_type": "stream",
          "name": "stdout",
          "text": [
            "with loops:  [[1, 1, 1], [1, 1, 1], [1, 1, 1]]\n",
            "with inline loops:  [[1, 1, 1], [1, 1, 1], [1, 1, 1]]\n",
            "with numpy:  [[2 2 2]\n",
            " [2 2 2]\n",
            " [2 2 2]]\n"
          ]
        }
      ],
      "source": [
        "dim = 3\n",
        "matr = []\n",
        "for r in range(dim):\n",
        "    col = []\n",
        "    for c in range(dim):\n",
        "        col.append(1)\n",
        "    matr.append(col)\n",
        "print('with loops: ', matr)\n",
        "\n",
        "matr = [[1 for r in range(dim)] for c in range(dim)]\n",
        "print('with inline loops: ', matr)\n",
        "\n",
        "#matr_np = np.ones((dim, dim))\n",
        "matr_np = np.full((dim, dim), 2,)\n",
        "print('with numpy: ', matr_np)"
      ]
    },
    {
      "cell_type": "code",
      "execution_count": 17,
      "metadata": {
        "colab": {
          "base_uri": "https://localhost:8080/"
        },
        "id": "VVYTLmAI6d8A",
        "outputId": "ffd6c427-0e82-48fe-c43d-87f08e46bc1e"
      },
      "outputs": [
        {
          "output_type": "stream",
          "name": "stdout",
          "text": [
            "[1, 1, 1, 1]\n",
            "[1, 1, 1, 1]\n"
          ]
        }
      ],
      "source": [
        "print([1 for r in range(4)])\n",
        "\n",
        "l = []\n",
        "for r in range(4):\n",
        "    l.append(1)\n",
        "\n",
        "print(l)"
      ]
    },
    {
      "cell_type": "markdown",
      "metadata": {
        "id": "GU7kpl9k6d8B"
      },
      "source": [
        "# Plotting and graphs"
      ]
    },
    {
      "cell_type": "code",
      "execution_count": 18,
      "metadata": {
        "colab": {
          "base_uri": "https://localhost:8080/"
        },
        "id": "IghmWwdD6d8B",
        "outputId": "df37bbc5-7f58-4ad2-8912-2828b3876f19"
      },
      "outputs": [
        {
          "output_type": "execute_result",
          "data": {
            "text/plain": [
              "array([-3.14159265, -3.04159265, -2.94159265, -2.84159265, -2.74159265,\n",
              "       -2.64159265, -2.54159265, -2.44159265, -2.34159265, -2.24159265,\n",
              "       -2.14159265, -2.04159265, -1.94159265, -1.84159265, -1.74159265,\n",
              "       -1.64159265, -1.54159265, -1.44159265, -1.34159265, -1.24159265,\n",
              "       -1.14159265, -1.04159265, -0.94159265, -0.84159265, -0.74159265,\n",
              "       -0.64159265, -0.54159265, -0.44159265, -0.34159265, -0.24159265,\n",
              "       -0.14159265, -0.04159265,  0.05840735,  0.15840735,  0.25840735,\n",
              "        0.35840735,  0.45840735,  0.55840735,  0.65840735,  0.75840735,\n",
              "        0.85840735,  0.95840735,  1.05840735,  1.15840735,  1.25840735,\n",
              "        1.35840735,  1.45840735,  1.55840735,  1.65840735,  1.75840735,\n",
              "        1.85840735,  1.95840735,  2.05840735,  2.15840735,  2.25840735,\n",
              "        2.35840735,  2.45840735,  2.55840735,  2.65840735,  2.75840735,\n",
              "        2.85840735,  2.95840735,  3.05840735])"
            ]
          },
          "metadata": {},
          "execution_count": 18
        }
      ],
      "source": [
        "np.arange(-np.pi, np.pi, 0.1)   #Generating evenly distributed numbers betw -Pi - Pi"
      ]
    },
    {
      "cell_type": "code",
      "execution_count": 19,
      "metadata": {
        "colab": {
          "base_uri": "https://localhost:8080/",
          "height": 518
        },
        "id": "9Ywk9xHV6d8C",
        "outputId": "c793d7c9-2640-4178-d150-51433de786c0"
      },
      "outputs": [
        {
          "output_type": "stream",
          "name": "stdout",
          "text": [
            "[-3.14159265 -2.7925268  -2.44346095 -2.0943951  -1.74532925 -1.3962634\n",
            " -1.04719755 -0.6981317  -0.34906585  0.          0.34906585  0.6981317\n",
            "  1.04719755  1.3962634   1.74532925  2.0943951   2.44346095  2.7925268\n",
            "  3.14159265]\n"
          ]
        },
        {
          "output_type": "display_data",
          "data": {
            "text/plain": [
              "<Figure size 640x480 with 1 Axes>"
            ],
            "image/png": "[encoded data removed]"
          },
          "metadata": {}
        }
      ],
      "source": [
        "import numpy as np\n",
        "import matplotlib.pyplot as plt\n",
        "\n",
        "plt.figure()\n",
        "\n",
        "#for x in np.arange(-np.pi, np.pi, 0.01):   # start, stop, step\n",
        "#    plt.plot(x, np.sin(x), 'r.')            # check plot options\n",
        "\n",
        "# a better solution:\n",
        "x = np.linspace(-np.pi, np.pi, 19)     # start, stop, num\n",
        "y = np.sin(x)\n",
        "\n",
        "plt.plot(x, y, 'g')                     # optional formatting: 'k.'\n",
        "plt.ylabel('sin(x)')\n",
        "plt.xlabel('x')\n",
        "print(x)\n",
        "plt.show()\n"
      ]
    },
    {
      "cell_type": "code",
      "execution_count": 20,
      "metadata": {
        "colab": {
          "base_uri": "https://localhost:8080/",
          "height": 449
        },
        "id": "36bY2xH66d8D",
        "outputId": "bb0dc7c6-92a2-4a1d-bf06-a2e0a9eb9708"
      },
      "outputs": [
        {
          "output_type": "display_data",
          "data": {
            "text/plain": [
              "<Figure size 640x480 with 1 Axes>"
            ],
            "image/png": "[encoded data removed]"
          },
          "metadata": {}
        }
      ],
      "source": [
        "# Plot the natural logarithm of the square root of values between 0 and 100 with step 0.1\n",
        "\n",
        "\n",
        "import numpy as np\n",
        "import matplotlib.pyplot as plt\n",
        "\n",
        "start = 0.01\n",
        "stop = 100\n",
        "step = 0.1\n",
        "points = int((stop-start)/step)\n",
        "#x = np.arange(start, stop, step):   # start, stop, step\n",
        "x = np.linspace(start, stop, points)     # start, stop, num\n",
        "y = np.log(np.sqrt(x))\n",
        "\n",
        "plt.figure()\n",
        "plt.plot(x, y)                     # optional formatting: 'k.'\n",
        "plt.ylabel('log(sqrt(x))')\n",
        "plt.xlabel('x')\n",
        "#print(x)\n",
        "plt.show()\n",
        "\n"
      ]
    },
    {
      "cell_type": "code",
      "execution_count": null,
      "metadata": {
        "id": "mXuhiObu6d8E"
      },
      "outputs": [],
      "source": []
    }
  ],
  "metadata": {
    "kernelspec": {
      "display_name": "Python 3 (ipykernel)",
      "language": "python",
      "name": "python3"
    },
    "language_info": {
      "codemirror_mode": {
        "name": "ipython",
        "version": 3
      },
      "file_extension": ".py",
      "mimetype": "text/x-python",
      "name": "python",
      "nbconvert_exporter": "python",
      "pygments_lexer": "ipython3",
      "version": "3.9.15"
    },
    "colab": {
      "provenance": [],
      "include_colab_link": true
    }
  },
  "nbformat": 4,
  "nbformat_minor": 0
}